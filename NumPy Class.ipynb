{
 "cells": [
  {
   "cell_type": "code",
   "execution_count": 1,
   "id": "b878d7b0",
   "metadata": {},
   "outputs": [],
   "source": [
    "import numpy as np"
   ]
  },
  {
   "cell_type": "code",
   "execution_count": 2,
   "id": "f0589f7e",
   "metadata": {},
   "outputs": [
    {
     "data": {
      "text/plain": [
       "array([2, 3, 4, 5, 6])"
      ]
     },
     "execution_count": 2,
     "metadata": {},
     "output_type": "execute_result"
    }
   ],
   "source": [
    "np.array([2,3,4,5,6])"
   ]
  },
  {
   "cell_type": "code",
   "execution_count": 3,
   "id": "9d2feb7a",
   "metadata": {},
   "outputs": [
    {
     "data": {
      "text/plain": [
       "numpy.ndarray"
      ]
     },
     "execution_count": 3,
     "metadata": {},
     "output_type": "execute_result"
    }
   ],
   "source": [
    "type(np.array([2,3,4,5,6]))"
   ]
  },
  {
   "cell_type": "code",
   "execution_count": 4,
   "id": "f69bb4f7",
   "metadata": {},
   "outputs": [],
   "source": [
    "l = [[1,2,3,4] , [ 2,3,4,5]]"
   ]
  },
  {
   "cell_type": "code",
   "execution_count": 6,
   "id": "29a08e71",
   "metadata": {},
   "outputs": [
    {
     "data": {
      "text/plain": [
       "5"
      ]
     },
     "execution_count": 6,
     "metadata": {},
     "output_type": "execute_result"
    }
   ],
   "source": [
    "l[1][3]"
   ]
  },
  {
   "cell_type": "code",
   "execution_count": 7,
   "id": "e41409ae",
   "metadata": {},
   "outputs": [
    {
     "data": {
      "text/plain": [
       "array([[[2, 7],\n",
       "        [8, 8],\n",
       "        [4, 4],\n",
       "        [2, 7]],\n",
       "\n",
       "       [[9, 1],\n",
       "        [6, 8],\n",
       "        [8, 8],\n",
       "        [1, 4]],\n",
       "\n",
       "       [[8, 2],\n",
       "        [3, 2],\n",
       "        [5, 3],\n",
       "        [2, 2]],\n",
       "\n",
       "       [[8, 4],\n",
       "        [7, 8],\n",
       "        [7, 9],\n",
       "        [3, 3]]])"
      ]
     },
     "execution_count": 7,
     "metadata": {},
     "output_type": "execute_result"
    }
   ],
   "source": [
    "np.random.randint(1,10,(4,4,2))"
   ]
  },
  {
   "cell_type": "markdown",
   "id": "0f563dcd",
   "metadata": {},
   "source": [
    "##check the visual representation of array idea in the last part of the pandas class"
   ]
  },
  {
   "cell_type": "markdown",
   "id": "3a33a721",
   "metadata": {},
   "source": [
    "#task 2 - Superstore_USA\n",
    "1 . load this data in sql and in pandas with a relation in sql \n",
    "2 . while loading this data you dont have to create a table manually you can use any automated approach to create a table and load a data in bulk in table \n",
    "3 . Find out how return that we ahve recived and with a product id \n",
    "4 . try  to join order and return data both in sql and pandas \n",
    "5 . Try to find out how many unique customer that we have \n",
    "6 . try to find out in how many regions we are selling a product and who is a manager for a respective region \n",
    "7 . find out how many different differnet shipement mode that we have and what is a percentage usablity of all the shipment mode with respect to dataset \n",
    "8 . Create a new coulmn and try to find our a diffrence between order date and shipment date\n",
    "9 . base on question number 8 find out for which order id we have shipment duration more than 10 days \n",
    "10 . Try to find out a list of a returned order which sihpment duration was more then 15 days and find out that region manager as well \n",
    "11 . Gorup by region and find out which region is more profitable \n",
    "12 . Try to find out overalll in which country we are giving more didscount \n",
    "13 . Give me a list of unique postal code \n",
    "14 . which customer segement is more profitalble find it out . \n",
    "15 . try to find out the 10th most loss making product catagory . \n",
    "16 . Try to find out 10 top  product with highest margins \n",
    "\n",
    "submit your git link for the same \n",
    " \n",
    "you have to submit this task by next Friday 5th 11PM IST  to respective mail id \n",
    "sudhanshu@ineuron.ai , sunny.savita@ineuron.ai "
   ]
  },
  {
   "cell_type": "code",
   "execution_count": 8,
   "id": "ec39b5df",
   "metadata": {},
   "outputs": [],
   "source": [
    "l1 = [1,3,4,'dfdsf', 34.4, True]"
   ]
  },
  {
   "cell_type": "code",
   "execution_count": 9,
   "id": "af245b0b",
   "metadata": {},
   "outputs": [
    {
     "data": {
      "text/plain": [
       "array(['1', '3', '4', 'dfdsf', '34.4', 'True'], dtype='<U32')"
      ]
     },
     "execution_count": 9,
     "metadata": {},
     "output_type": "execute_result"
    }
   ],
   "source": [
    "np.array(l1)"
   ]
  },
  {
   "cell_type": "code",
   "execution_count": 13,
   "id": "7f7ab9a9",
   "metadata": {},
   "outputs": [
    {
     "data": {
      "text/plain": [
       "array([[[43,  7, 27, 36],\n",
       "        [25, 28, 41, 36],\n",
       "        [ 2, 22, 46, 26]],\n",
       "\n",
       "       [[12, 12, 11, 42],\n",
       "        [29, 45, 20, 30],\n",
       "        [17, 41, 28, 31]]])"
      ]
     },
     "execution_count": 13,
     "metadata": {},
     "output_type": "execute_result"
    }
   ],
   "source": [
    "np.random.randint(1,50, (2,3,4))"
   ]
  },
  {
   "cell_type": "code",
   "execution_count": 14,
   "id": "b5e60f03",
   "metadata": {},
   "outputs": [],
   "source": [
    "a4 = np.random.randn(4,4)"
   ]
  },
  {
   "cell_type": "code",
   "execution_count": 15,
   "id": "f59aee90",
   "metadata": {},
   "outputs": [
    {
     "data": {
      "text/plain": [
       "array([[ 0.94431923,  1.55153823,  0.00216433,  0.66990479],\n",
       "       [-1.16372692,  1.6613517 , -0.89849468, -0.51929957],\n",
       "       [ 0.09183027, -0.44045727,  0.67425483,  1.61655581],\n",
       "       [ 1.26148577,  0.57142987, -0.27760314, -1.27740876]])"
      ]
     },
     "execution_count": 15,
     "metadata": {},
     "output_type": "execute_result"
    }
   ],
   "source": [
    "a4"
   ]
  },
  {
   "cell_type": "code",
   "execution_count": 16,
   "id": "dd84e800",
   "metadata": {},
   "outputs": [
    {
     "data": {
      "text/plain": [
       "array([[ 0.94431923],\n",
       "       [ 1.55153823],\n",
       "       [ 0.00216433],\n",
       "       [ 0.66990479],\n",
       "       [-1.16372692],\n",
       "       [ 1.6613517 ],\n",
       "       [-0.89849468],\n",
       "       [-0.51929957],\n",
       "       [ 0.09183027],\n",
       "       [-0.44045727],\n",
       "       [ 0.67425483],\n",
       "       [ 1.61655581],\n",
       "       [ 1.26148577],\n",
       "       [ 0.57142987],\n",
       "       [-0.27760314],\n",
       "       [-1.27740876]])"
      ]
     },
     "execution_count": 16,
     "metadata": {},
     "output_type": "execute_result"
    }
   ],
   "source": [
    "a4.reshape(16,1)"
   ]
  },
  {
   "cell_type": "code",
   "execution_count": 19,
   "id": "91ad0258",
   "metadata": {},
   "outputs": [],
   "source": [
    "a5 = np.random.randint(2,90, (6,5))"
   ]
  },
  {
   "cell_type": "code",
   "execution_count": 20,
   "id": "056d624a",
   "metadata": {},
   "outputs": [
    {
     "data": {
      "text/plain": [
       "array([[39, 13, 39, 54, 62],\n",
       "       [83,  7, 16, 50, 85],\n",
       "       [84, 77, 80,  9,  5],\n",
       "       [26, 17, 48, 62, 71],\n",
       "       [47, 43, 18, 51,  3],\n",
       "       [42, 53, 71, 66, 62]])"
      ]
     },
     "execution_count": 20,
     "metadata": {},
     "output_type": "execute_result"
    }
   ],
   "source": [
    "a5"
   ]
  },
  {
   "cell_type": "code",
   "execution_count": 22,
   "id": "19ee3bb9",
   "metadata": {},
   "outputs": [
    {
     "data": {
      "text/plain": [
       "array([54, 62, 83, 50, 85, 84, 77, 80, 48, 62, 71, 47, 43, 51, 42, 53, 71,\n",
       "       66, 62])"
      ]
     },
     "execution_count": 22,
     "metadata": {},
     "output_type": "execute_result"
    }
   ],
   "source": [
    "a5[a5>40]"
   ]
  },
  {
   "cell_type": "code",
   "execution_count": 23,
   "id": "3187a0e2",
   "metadata": {},
   "outputs": [],
   "source": [
    "a = np.array([1,2,3,4])"
   ]
  },
  {
   "cell_type": "code",
   "execution_count": 24,
   "id": "8df586a2",
   "metadata": {},
   "outputs": [
    {
     "data": {
      "text/plain": [
       "array([1, 2, 3, 4])"
      ]
     },
     "execution_count": 24,
     "metadata": {},
     "output_type": "execute_result"
    }
   ],
   "source": [
    "a"
   ]
  },
  {
   "cell_type": "code",
   "execution_count": 30,
   "id": "0979d5c3",
   "metadata": {},
   "outputs": [],
   "source": [
    "b = np.array([[1,2,3,4]]).T"
   ]
  },
  {
   "cell_type": "code",
   "execution_count": 31,
   "id": "b6e90c66",
   "metadata": {},
   "outputs": [
    {
     "data": {
      "text/plain": [
       "array([[1],\n",
       "       [2],\n",
       "       [3],\n",
       "       [4]])"
      ]
     },
     "execution_count": 31,
     "metadata": {},
     "output_type": "execute_result"
    }
   ],
   "source": [
    "b"
   ]
  },
  {
   "cell_type": "code",
   "execution_count": 32,
   "id": "443aa9ac",
   "metadata": {},
   "outputs": [
    {
     "data": {
      "text/plain": [
       "array([1. , 2.5, 4. , 5.5, 7. , 8.5])"
      ]
     },
     "execution_count": 32,
     "metadata": {},
     "output_type": "execute_result"
    }
   ],
   "source": [
    "np.arange(1,10,1.5)"
   ]
  },
  {
   "cell_type": "code",
   "execution_count": null,
   "id": "e9c3b0c6",
   "metadata": {},
   "outputs": [],
   "source": []
  }
 ],
 "metadata": {
  "kernelspec": {
   "display_name": "Python 3 (ipykernel)",
   "language": "python",
   "name": "python3"
  },
  "language_info": {
   "codemirror_mode": {
    "name": "ipython",
    "version": 3
   },
   "file_extension": ".py",
   "mimetype": "text/x-python",
   "name": "python",
   "nbconvert_exporter": "python",
   "pygments_lexer": "ipython3",
   "version": "3.9.12"
  }
 },
 "nbformat": 4,
 "nbformat_minor": 5
}
