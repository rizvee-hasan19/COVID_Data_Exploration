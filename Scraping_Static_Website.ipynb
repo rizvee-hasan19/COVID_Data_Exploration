{
  "nbformat": 4,
  "nbformat_minor": 0,
  "metadata": {
    "colab": {
      "provenance": [],
      "include_colab_link": true
    },
    "kernelspec": {
      "name": "python3",
      "display_name": "Python 3"
    },
    "language_info": {
      "name": "python"
    }
  },
  "cells": [
    {
      "cell_type": "markdown",
      "metadata": {
        "id": "view-in-github",
        "colab_type": "text"
      },
      "source": [
        "<a href=\"https://colab.research.google.com/github/rizveehasan19/Guided-Projects/blob/main/Scraping_Static_Website.ipynb\" target=\"_parent\"><img src=\"https://colab.research.google.com/assets/colab-badge.svg\" alt=\"Open In Colab\"/></a>"
      ]
    },
    {
      "cell_type": "markdown",
      "source": [
        "Scrape the last table from this Wikipedia Page: https://en.wikipedia.org/wiki/Red_states_and_blue_states"
      ],
      "metadata": {
        "id": "9iqA0eT2BMq0"
      }
    },
    {
      "cell_type": "markdown",
      "source": [
        "We will be using **Beautiful Soup** and **Requests** library for this task. Let's dive in."
      ],
      "metadata": {
        "id": "kJMvtPjVFBev"
      }
    },
    {
      "cell_type": "code",
      "source": [
        "import requests\n",
        "import bs4\n",
        "import pandas as pd"
      ],
      "metadata": {
        "id": "eeX79R9cL5dL"
      },
      "execution_count": null,
      "outputs": []
    },
    {
      "cell_type": "code",
      "source": [
        "url = \"https://en.wikipedia.org/wiki/Red_states_and_blue_states\"\n",
        "web_page = bs4.BeautifulSoup(requests.get(url, {}).text, \"lxml\")\n",
        "tables = web_page.find_all(name=\"table\", attrs= {\"class\": \"wikitable\"})\n",
        "table_rows = tables[-1].find_all(name=\"tr\")\n",
        "len(table_rows)"
      ],
      "metadata": {
        "colab": {
          "base_uri": "https://localhost:8080/"
        },
        "id": "aFoKpPHoEMCe",
        "outputId": "4f88969b-e015-428b-d812-f6fbb08ab417"
      },
      "execution_count": null,
      "outputs": [
        {
          "output_type": "execute_result",
          "data": {
            "text/plain": [
              "59"
            ]
          },
          "metadata": {},
          "execution_count": 2
        }
      ]
    },
    {
      "cell_type": "code",
      "source": [
        "col_names = [ raw_name.text.replace(\"\\n\", \"\") for raw_name in table_rows[0].find_all(name=\"th\")]\n",
        "col_names"
      ],
      "metadata": {
        "colab": {
          "base_uri": "https://localhost:8080/"
        },
        "id": "QUMoyLAMHKQH",
        "outputId": "0cf28355-3af4-4fdb-aba5-baece26d8df2"
      },
      "execution_count": null,
      "outputs": [
        {
          "output_type": "execute_result",
          "data": {
            "text/plain": [
              "['Year',\n",
              " '1972',\n",
              " '1976',\n",
              " '1980',\n",
              " '1984',\n",
              " '1988',\n",
              " '1992',\n",
              " '1996',\n",
              " '2000',\n",
              " '2004',\n",
              " '2008',\n",
              " '2012',\n",
              " '2016',\n",
              " '2020']"
            ]
          },
          "metadata": {},
          "execution_count": 3
        }
      ]
    },
    {
      "cell_type": "code",
      "source": [
        "contents = [{col_names[idx] : raw_name.text.replace(\"\\n\", \"\").strip() for idx, raw_name in enumerate(table_rows[row_id].find_all(name=\"td\"))} for row_id in range(2, len(table_rows))]"
      ],
      "metadata": {
        "id": "jEVyiuFuIoyN"
      },
      "execution_count": null,
      "outputs": []
    },
    {
      "cell_type": "code",
      "source": [
        "df = pd.DataFrame(data=contents, columns=col_names)\n",
        "df.head()"
      ],
      "metadata": {
        "colab": {
          "base_uri": "https://localhost:8080/",
          "height": 302
        },
        "id": "X_rNhaCkK1ie",
        "outputId": "6097d1ef-cf0f-4af3-89b9-4a376a17d8dc"
      },
      "execution_count": null,
      "outputs": [
        {
          "output_type": "execute_result",
          "data": {
            "text/plain": [
              "                    Year             1972          1976           1980  \\\n",
              "0   Democratic candidate  George McGovern  Jimmy Carter   Jimmy Carter   \n",
              "1   Republican candidate    Richard Nixon   Gerald Ford  Ronald Reagan   \n",
              "2  National popular vote            Nixon        Carter         Reagan   \n",
              "3                Alabama            Nixon        Carter         Reagan   \n",
              "4                 Alaska            Nixon          Ford         Reagan   \n",
              "\n",
              "             1984               1988               1992          1996  \\\n",
              "0  Walter Mondale    Michael Dukakis       Bill Clinton  Bill Clinton   \n",
              "1   Ronald Reagan  George H. W. Bush  George H. W. Bush      Bob Dole   \n",
              "2          Reagan               Bush            Clinton       Clinton   \n",
              "3          Reagan               Bush               Bush          Dole   \n",
              "4          Reagan               Bush               Bush          Dole   \n",
              "\n",
              "             2000            2004          2008          2012  \\\n",
              "0         Al Gore      John Kerry  Barack Obama  Barack Obama   \n",
              "1  George W. Bush  George W. Bush   John McCain   Mitt Romney   \n",
              "2            Gore            Bush         Obama         Obama   \n",
              "3            Bush            Bush        McCain        Romney   \n",
              "4            Bush            Bush        McCain        Romney   \n",
              "\n",
              "              2016          2020  \n",
              "0  Hillary Clinton     Joe Biden  \n",
              "1     Donald Trump  Donald Trump  \n",
              "2          Clinton         Biden  \n",
              "3            Trump         Trump  \n",
              "4            Trump         Trump  "
            ],
            "text/html": [
              "\n",
              "  <div id=\"df-dcf41c2b-7cae-4c69-b832-dcafbe0e3477\">\n",
              "    <div class=\"colab-df-container\">\n",
              "      <div>\n",
              "<style scoped>\n",
              "    .dataframe tbody tr th:only-of-type {\n",
              "        vertical-align: middle;\n",
              "    }\n",
              "\n",
              "    .dataframe tbody tr th {\n",
              "        vertical-align: top;\n",
              "    }\n",
              "\n",
              "    .dataframe thead th {\n",
              "        text-align: right;\n",
              "    }\n",
              "</style>\n",
              "<table border=\"1\" class=\"dataframe\">\n",
              "  <thead>\n",
              "    <tr style=\"text-align: right;\">\n",
              "      <th></th>\n",
              "      <th>Year</th>\n",
              "      <th>1972</th>\n",
              "      <th>1976</th>\n",
              "      <th>1980</th>\n",
              "      <th>1984</th>\n",
              "      <th>1988</th>\n",
              "      <th>1992</th>\n",
              "      <th>1996</th>\n",
              "      <th>2000</th>\n",
              "      <th>2004</th>\n",
              "      <th>2008</th>\n",
              "      <th>2012</th>\n",
              "      <th>2016</th>\n",
              "      <th>2020</th>\n",
              "    </tr>\n",
              "  </thead>\n",
              "  <tbody>\n",
              "    <tr>\n",
              "      <th>0</th>\n",
              "      <td>Democratic candidate</td>\n",
              "      <td>George McGovern</td>\n",
              "      <td>Jimmy Carter</td>\n",
              "      <td>Jimmy Carter</td>\n",
              "      <td>Walter Mondale</td>\n",
              "      <td>Michael Dukakis</td>\n",
              "      <td>Bill Clinton</td>\n",
              "      <td>Bill Clinton</td>\n",
              "      <td>Al Gore</td>\n",
              "      <td>John Kerry</td>\n",
              "      <td>Barack Obama</td>\n",
              "      <td>Barack Obama</td>\n",
              "      <td>Hillary Clinton</td>\n",
              "      <td>Joe Biden</td>\n",
              "    </tr>\n",
              "    <tr>\n",
              "      <th>1</th>\n",
              "      <td>Republican candidate</td>\n",
              "      <td>Richard Nixon</td>\n",
              "      <td>Gerald Ford</td>\n",
              "      <td>Ronald Reagan</td>\n",
              "      <td>Ronald Reagan</td>\n",
              "      <td>George H. W. Bush</td>\n",
              "      <td>George H. W. Bush</td>\n",
              "      <td>Bob Dole</td>\n",
              "      <td>George W. Bush</td>\n",
              "      <td>George W. Bush</td>\n",
              "      <td>John McCain</td>\n",
              "      <td>Mitt Romney</td>\n",
              "      <td>Donald Trump</td>\n",
              "      <td>Donald Trump</td>\n",
              "    </tr>\n",
              "    <tr>\n",
              "      <th>2</th>\n",
              "      <td>National popular vote</td>\n",
              "      <td>Nixon</td>\n",
              "      <td>Carter</td>\n",
              "      <td>Reagan</td>\n",
              "      <td>Reagan</td>\n",
              "      <td>Bush</td>\n",
              "      <td>Clinton</td>\n",
              "      <td>Clinton</td>\n",
              "      <td>Gore</td>\n",
              "      <td>Bush</td>\n",
              "      <td>Obama</td>\n",
              "      <td>Obama</td>\n",
              "      <td>Clinton</td>\n",
              "      <td>Biden</td>\n",
              "    </tr>\n",
              "    <tr>\n",
              "      <th>3</th>\n",
              "      <td>Alabama</td>\n",
              "      <td>Nixon</td>\n",
              "      <td>Carter</td>\n",
              "      <td>Reagan</td>\n",
              "      <td>Reagan</td>\n",
              "      <td>Bush</td>\n",
              "      <td>Bush</td>\n",
              "      <td>Dole</td>\n",
              "      <td>Bush</td>\n",
              "      <td>Bush</td>\n",
              "      <td>McCain</td>\n",
              "      <td>Romney</td>\n",
              "      <td>Trump</td>\n",
              "      <td>Trump</td>\n",
              "    </tr>\n",
              "    <tr>\n",
              "      <th>4</th>\n",
              "      <td>Alaska</td>\n",
              "      <td>Nixon</td>\n",
              "      <td>Ford</td>\n",
              "      <td>Reagan</td>\n",
              "      <td>Reagan</td>\n",
              "      <td>Bush</td>\n",
              "      <td>Bush</td>\n",
              "      <td>Dole</td>\n",
              "      <td>Bush</td>\n",
              "      <td>Bush</td>\n",
              "      <td>McCain</td>\n",
              "      <td>Romney</td>\n",
              "      <td>Trump</td>\n",
              "      <td>Trump</td>\n",
              "    </tr>\n",
              "  </tbody>\n",
              "</table>\n",
              "</div>\n",
              "      <button class=\"colab-df-convert\" onclick=\"convertToInteractive('df-dcf41c2b-7cae-4c69-b832-dcafbe0e3477')\"\n",
              "              title=\"Convert this dataframe to an interactive table.\"\n",
              "              style=\"display:none;\">\n",
              "        \n",
              "  <svg xmlns=\"http://www.w3.org/2000/svg\" height=\"24px\"viewBox=\"0 0 24 24\"\n",
              "       width=\"24px\">\n",
              "    <path d=\"M0 0h24v24H0V0z\" fill=\"none\"/>\n",
              "    <path d=\"M18.56 5.44l.94 2.06.94-2.06 2.06-.94-2.06-.94-.94-2.06-.94 2.06-2.06.94zm-11 1L8.5 8.5l.94-2.06 2.06-.94-2.06-.94L8.5 2.5l-.94 2.06-2.06.94zm10 10l.94 2.06.94-2.06 2.06-.94-2.06-.94-.94-2.06-.94 2.06-2.06.94z\"/><path d=\"M17.41 7.96l-1.37-1.37c-.4-.4-.92-.59-1.43-.59-.52 0-1.04.2-1.43.59L10.3 9.45l-7.72 7.72c-.78.78-.78 2.05 0 2.83L4 21.41c.39.39.9.59 1.41.59.51 0 1.02-.2 1.41-.59l7.78-7.78 2.81-2.81c.8-.78.8-2.07 0-2.86zM5.41 20L4 18.59l7.72-7.72 1.47 1.35L5.41 20z\"/>\n",
              "  </svg>\n",
              "      </button>\n",
              "      \n",
              "  <style>\n",
              "    .colab-df-container {\n",
              "      display:flex;\n",
              "      flex-wrap:wrap;\n",
              "      gap: 12px;\n",
              "    }\n",
              "\n",
              "    .colab-df-convert {\n",
              "      background-color: #E8F0FE;\n",
              "      border: none;\n",
              "      border-radius: 50%;\n",
              "      cursor: pointer;\n",
              "      display: none;\n",
              "      fill: #1967D2;\n",
              "      height: 32px;\n",
              "      padding: 0 0 0 0;\n",
              "      width: 32px;\n",
              "    }\n",
              "\n",
              "    .colab-df-convert:hover {\n",
              "      background-color: #E2EBFA;\n",
              "      box-shadow: 0px 1px 2px rgba(60, 64, 67, 0.3), 0px 1px 3px 1px rgba(60, 64, 67, 0.15);\n",
              "      fill: #174EA6;\n",
              "    }\n",
              "\n",
              "    [theme=dark] .colab-df-convert {\n",
              "      background-color: #3B4455;\n",
              "      fill: #D2E3FC;\n",
              "    }\n",
              "\n",
              "    [theme=dark] .colab-df-convert:hover {\n",
              "      background-color: #434B5C;\n",
              "      box-shadow: 0px 1px 3px 1px rgba(0, 0, 0, 0.15);\n",
              "      filter: drop-shadow(0px 1px 2px rgba(0, 0, 0, 0.3));\n",
              "      fill: #FFFFFF;\n",
              "    }\n",
              "  </style>\n",
              "\n",
              "      <script>\n",
              "        const buttonEl =\n",
              "          document.querySelector('#df-dcf41c2b-7cae-4c69-b832-dcafbe0e3477 button.colab-df-convert');\n",
              "        buttonEl.style.display =\n",
              "          google.colab.kernel.accessAllowed ? 'block' : 'none';\n",
              "\n",
              "        async function convertToInteractive(key) {\n",
              "          const element = document.querySelector('#df-dcf41c2b-7cae-4c69-b832-dcafbe0e3477');\n",
              "          const dataTable =\n",
              "            await google.colab.kernel.invokeFunction('convertToInteractive',\n",
              "                                                     [key], {});\n",
              "          if (!dataTable) return;\n",
              "\n",
              "          const docLinkHtml = 'Like what you see? Visit the ' +\n",
              "            '<a target=\"_blank\" href=https://colab.research.google.com/notebooks/data_table.ipynb>data table notebook</a>'\n",
              "            + ' to learn more about interactive tables.';\n",
              "          element.innerHTML = '';\n",
              "          dataTable['output_type'] = 'display_data';\n",
              "          await google.colab.output.renderOutput(dataTable, element);\n",
              "          const docLink = document.createElement('div');\n",
              "          docLink.innerHTML = docLinkHtml;\n",
              "          element.appendChild(docLink);\n",
              "        }\n",
              "      </script>\n",
              "    </div>\n",
              "  </div>\n",
              "  "
            ]
          },
          "metadata": {},
          "execution_count": 5
        }
      ]
    },
    {
      "cell_type": "code",
      "source": [
        "len(df)"
      ],
      "metadata": {
        "colab": {
          "base_uri": "https://localhost:8080/"
        },
        "id": "-yVju9TfLGZF",
        "outputId": "194837f1-0cd3-455d-9c00-a490400ba57e"
      },
      "execution_count": null,
      "outputs": [
        {
          "output_type": "execute_result",
          "data": {
            "text/plain": [
              "57"
            ]
          },
          "metadata": {},
          "execution_count": 6
        }
      ]
    }
  ]
}